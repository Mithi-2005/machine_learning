{
 "cells": [
  {
   "cell_type": "markdown",
   "id": "6cade624",
   "metadata": {},
   "source": [
    "# Module 3: Data Structures Assignments\n",
    "## Lesson 3.2: Tuples\n",
    "### Assignment 1: Creating and Accessing Tuples\n",
    "\n",
    "Create a tuple with the first 10 positive integers. Print the tuple.\n",
    "\n"
   ]
  },
  {
   "cell_type": "code",
   "execution_count": 1,
   "id": "0b23a27f",
   "metadata": {},
   "outputs": [
    {
     "name": "stdout",
     "output_type": "stream",
     "text": [
      "(1, 2, 3, 4, 5, 6, 7, 8, 9, 10)\n"
     ]
    }
   ],
   "source": [
    "tup=tuple(range(1,11))\n",
    "print(tup)"
   ]
  },
  {
   "cell_type": "markdown",
   "id": "d9f1c287",
   "metadata": {},
   "source": [
    "\n",
    "### Assignment 2: Accessing Tuple Elements\n",
    "Print the first, middle, and last elements of the tuple created in Assignment 1.\n"
   ]
  },
  {
   "cell_type": "code",
   "execution_count": 2,
   "id": "e395b7f2",
   "metadata": {},
   "outputs": [
    {
     "name": "stdout",
     "output_type": "stream",
     "text": [
      "1 6 10\n"
     ]
    }
   ],
   "source": [
    "print(tup[0],tup[len(tup)//2],tup[-1])"
   ]
  },
  {
   "cell_type": "markdown",
   "id": "3052b33d",
   "metadata": {},
   "source": [
    "\n",
    "### Assignment 3: Tuple Slicing\n",
    "\n",
    "Print the first three elements, the last three elements, and the elements from index 2 to 5 of the tuple created in Assignment 1.\n"
   ]
  },
  {
   "cell_type": "code",
   "execution_count": 3,
   "id": "a396a647",
   "metadata": {},
   "outputs": [
    {
     "name": "stdout",
     "output_type": "stream",
     "text": [
      "(1, 2, 3) (8, 9, 10) (3, 4, 5, 6)\n"
     ]
    }
   ],
   "source": [
    "print(tup[0:3],tup[-3:],tup[2:6])"
   ]
  },
  {
   "cell_type": "markdown",
   "id": "7f9f8fec",
   "metadata": {},
   "source": [
    "\n",
    "### Assignment 4: Nested Tuples\n",
    "\n",
    "Create a nested tuple representing a 3x3 matrix and print the matrix. Access and print the element at the second row and third column.\n"
   ]
  },
  {
   "cell_type": "code",
   "execution_count": 9,
   "id": "62c51bd8",
   "metadata": {},
   "outputs": [
    {
     "name": "stdout",
     "output_type": "stream",
     "text": [
      "(1, 2, 3)\n",
      "(4, 5, 6)\n",
      "(7, 8, 9)\n",
      "6\n"
     ]
    }
   ],
   "source": [
    "tup=((1,2,3),(4,5,6),(7,8,9))\n",
    "for row in tup:\n",
    "    print(row)\n",
    "print(tup[1][2])"
   ]
  },
  {
   "cell_type": "markdown",
   "id": "141369d3",
   "metadata": {},
   "source": [
    "\n",
    "### Assignment 5: Tuple Concatenation\n",
    "\n",
    "Concatenate two tuples: (1, 2, 3) and (4, 5, 6). Print the resulting tuple.\n"
   ]
  },
  {
   "cell_type": "code",
   "execution_count": 10,
   "id": "6571e51c",
   "metadata": {},
   "outputs": [
    {
     "name": "stdout",
     "output_type": "stream",
     "text": [
      "(1, 2, 3, 4, 5, 6)\n"
     ]
    }
   ],
   "source": [
    "new=(1,2,3)+(4,5,6)\n",
    "print(new)"
   ]
  },
  {
   "cell_type": "markdown",
   "id": "af914746",
   "metadata": {},
   "source": [
    "\n",
    "### Assignment 6: Tuple Methods\n",
    "\n",
    "Create a tuple with duplicate elements and count the occurrences of an element. Find the index of the first occurrence of an element in the tuple.\n"
   ]
  },
  {
   "cell_type": "code",
   "execution_count": 11,
   "id": "d6de45dd",
   "metadata": {},
   "outputs": [
    {
     "name": "stdout",
     "output_type": "stream",
     "text": [
      "3\n",
      "1\n"
     ]
    }
   ],
   "source": [
    "op=(1,2,2,3,3,3,4,4,4,4)\n",
    "print(op.count(3))\n",
    "print(op.index(2))"
   ]
  },
  {
   "cell_type": "markdown",
   "id": "b6c1557a",
   "metadata": {},
   "source": [
    "\n",
    "### Assignment 7: Unpacking Tuples\n",
    "\n",
    "Create a tuple with 5 elements and unpack it into 5 variables. Print the variables.\n"
   ]
  },
  {
   "cell_type": "code",
   "execution_count": 13,
   "id": "352b31a4",
   "metadata": {},
   "outputs": [
    {
     "name": "stdout",
     "output_type": "stream",
     "text": [
      "1 2 3 4\n"
     ]
    }
   ],
   "source": [
    "num=(1,2,3,4)\n",
    "a,b,c,d=num\n",
    "print(a,b,c,d)"
   ]
  },
  {
   "cell_type": "markdown",
   "id": "0f9593da",
   "metadata": {},
   "source": [
    "\n",
    "### Assignment 8: Tuple Conversion\n",
    "\n",
    "Convert a list of the first 5 positive integers to a tuple. Print the tuple.\n"
   ]
  },
  {
   "cell_type": "code",
   "execution_count": 17,
   "id": "d3be7745",
   "metadata": {},
   "outputs": [
    {
     "name": "stdout",
     "output_type": "stream",
     "text": [
      "(1, 2, 3, 4, 5)\n"
     ]
    }
   ],
   "source": [
    "li=list(range(1,6))\n",
    "k=tuple(li)\n",
    "print(k)"
   ]
  },
  {
   "cell_type": "markdown",
   "id": "e647050e",
   "metadata": {},
   "source": [
    "\n",
    "### Assignment 9: Tuple of Tuples\n",
    "\n",
    "Create a tuple containing 3 tuples, each with 3 elements. Print the tuple of tuples.\n"
   ]
  },
  {
   "cell_type": "markdown",
   "id": "144cd66a",
   "metadata": {},
   "source": [
    "\n",
    "### Assignment 10: Tuple and List\n",
    "\n",
    "Create a tuple with the first 5 positive integers. Convert it to a list, append the number 6, and convert it back to a tuple. Print the resulting tuple.\n"
   ]
  },
  {
   "cell_type": "markdown",
   "id": "b06dd1b6",
   "metadata": {},
   "source": [
    "\n",
    "### Assignment 11: Tuple and String\n",
    "\n",
    "Create a tuple with the characters of a string. Join the tuple elements into a single string. Print the string.\n"
   ]
  },
  {
   "cell_type": "markdown",
   "id": "774fdf68",
   "metadata": {},
   "source": [
    "\n",
    "### Assignment 12: Tuple and Dictionary\n",
    "\n",
    "Create a dictionary with tuple keys and integer values. Print the dictionary.\n"
   ]
  },
  {
   "cell_type": "markdown",
   "id": "11fbbf0e",
   "metadata": {},
   "source": [
    "\n",
    "### Assignment 13: Nested Tuple Iteration\n",
    "\n",
    "Create a nested tuple and iterate over the elements, printing each element.\n"
   ]
  },
  {
   "cell_type": "markdown",
   "id": "cf313fa6",
   "metadata": {},
   "source": [
    "\n",
    "### Assignment 14: Tuple and Set\n",
    "\n",
    "Create a tuple with duplicate elements. Convert it to a set to remove duplicates and print the resulting set.\n"
   ]
  },
  {
   "cell_type": "markdown",
   "id": "2af9dee8",
   "metadata": {},
   "source": [
    "\n",
    "### Assignment 15: Tuple Functions\n",
    "\n",
    "Write functions that take a tuple and return the minimum, maximum, and sum of the elements. Print the results for a sample tuple."
   ]
  }
 ],
 "metadata": {
  "kernelspec": {
   "display_name": "venv",
   "language": "python",
   "name": "python3"
  },
  "language_info": {
   "codemirror_mode": {
    "name": "ipython",
    "version": 3
   },
   "file_extension": ".py",
   "mimetype": "text/x-python",
   "name": "python",
   "nbconvert_exporter": "python",
   "pygments_lexer": "ipython3",
   "version": "3.12.0"
  }
 },
 "nbformat": 4,
 "nbformat_minor": 5
}
