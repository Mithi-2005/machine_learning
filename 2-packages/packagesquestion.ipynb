{
 "cells": [
  {
   "cell_type": "markdown",
   "metadata": {},
   "source": [
    "# Module 5: Modules and Packages Assignments\n",
    "## Lesson 5.1: Importing Modules\n",
    "### Assignment 1: Importing and Using Modules\n",
    "\n",
    "Import the `math` module and use it to calculate the square root of 25 and the sine of 90 degrees.\n"
   ]
  },
  {
   "cell_type": "code",
   "execution_count": 2,
   "id": "e12e2468",
   "metadata": {},
   "outputs": [
    {
     "name": "stdout",
     "output_type": "stream",
     "text": [
      "5.0\n",
      "1.0\n"
     ]
    }
   ],
   "source": [
    "import math\n",
    "print(math.sqrt(25))\n",
    "print(math.sin(math.pi/2))"
   ]
  },
  {
   "cell_type": "markdown",
   "id": "d4c9d675",
   "metadata": {},
   "source": [
    "\n",
    "### Assignment 2: Aliasing Modules\n",
    "\n",
    "Import the `datetime` module with an alias and use it to print the current date and time.\n"
   ]
  },
  {
   "cell_type": "code",
   "execution_count": 4,
   "id": "2389f993",
   "metadata": {},
   "outputs": [
    {
     "name": "stdout",
     "output_type": "stream",
     "text": [
      "2025-02-15 14:50:46.931065\n"
     ]
    }
   ],
   "source": [
    "import datetime as dt\n",
    "print(dt.datetime.now())"
   ]
  },
  {
   "cell_type": "markdown",
   "id": "bd7e4cd2",
   "metadata": {},
   "source": [
    "\n",
    "### Assignment 3: Importing Specific Functions\n",
    "\n",
    "Import the `randint` function from the `random` module and use it to generate a random integer between 1 and 100.\n"
   ]
  },
  {
   "cell_type": "code",
   "execution_count": 6,
   "id": "d2769e7b",
   "metadata": {},
   "outputs": [
    {
     "name": "stdout",
     "output_type": "stream",
     "text": [
      "45\n"
     ]
    }
   ],
   "source": [
    "from random import randint\n",
    "print(randint(1,100))"
   ]
  },
  {
   "cell_type": "markdown",
   "id": "daa2c211",
   "metadata": {},
   "source": [
    "\n",
    "### Assignment 4: Importing Multiple Functions\n",
    "\n",
    "Import the `sqrt` and `pow` functions from the `math` module and use them to calculate the square root of 16 and 2 raised to the power of 3.\n"
   ]
  },
  {
   "cell_type": "code",
   "execution_count": 7,
   "id": "1e20d27b",
   "metadata": {},
   "outputs": [
    {
     "name": "stdout",
     "output_type": "stream",
     "text": [
      "4.0 8.0\n"
     ]
    }
   ],
   "source": [
    "from math import sqrt,pow\n",
    "\n",
    "print(sqrt(16),pow(2,3),end=\"\\n\")"
   ]
  },
  {
   "cell_type": "markdown",
   "id": "fb473069",
   "metadata": {},
   "source": [
    "\n",
    "### Assignment 5: Handling Import Errors\n",
    "\n",
    "Write code that attempts to import a non-existent module and gracefully handles the import error by printing an error message.\n"
   ]
  },
  {
   "cell_type": "code",
   "execution_count": 9,
   "id": "d8cb5650",
   "metadata": {},
   "outputs": [
    {
     "name": "stdout",
     "output_type": "stream",
     "text": [
      "No module named 'abcd'\n"
     ]
    }
   ],
   "source": [
    "try:\n",
    "    import abcd\n",
    "\n",
    "except ImportError as e:\n",
    "    print(e)\n"
   ]
  },
  {
   "cell_type": "markdown",
   "id": "67ecf539",
   "metadata": {},
   "source": [
    "\n",
    "## Lesson 5.2: Standard Library Overview\n",
    "### Assignment 6: Working with the `os` Module\n",
    "\n",
    "Use the `os` module to create a new directory, list the contents of the current directory, and remove the newly created directory.\n"
   ]
  },
  {
   "cell_type": "code",
   "execution_count": 16,
   "id": "8f71640a",
   "metadata": {},
   "outputs": [
    {
     "name": "stdout",
     "output_type": "stream",
     "text": [
      "['NewTest', 'packagesquestion.ipynb', 'packagessolution.ipynb']\n",
      "['packagesquestion.ipynb', 'packagessolution.ipynb']\n"
     ]
    }
   ],
   "source": [
    "import os\n",
    "os.mkdir(\"NewTest\")\n",
    "print(os.listdir(\".\"))\n",
    "os.rmdir(\"NewTest\")\n",
    "print(os.listdir(\".\"))"
   ]
  },
  {
   "cell_type": "markdown",
   "id": "340e6e1b",
   "metadata": {},
   "source": [
    "\n",
    "### Assignment 7: Working with the `sys` Module\n",
    "\n",
    "Use the `sys` module to print the Python version currently in use and the command-line arguments passed to the script.\n"
   ]
  },
  {
   "cell_type": "code",
   "execution_count": 18,
   "id": "ccde4ac7",
   "metadata": {},
   "outputs": [
    {
     "name": "stdout",
     "output_type": "stream",
     "text": [
      "3.12.0 | packaged by Anaconda, Inc. | (main, Oct  2 2023, 17:20:38) [MSC v.1916 64 bit (AMD64)]\n",
      "['d:\\\\ML\\\\Python\\\\0.0 Assignments\\\\venv\\\\Lib\\\\site-packages\\\\ipykernel_launcher.py', '--f=c:\\\\Users\\\\kvmit\\\\AppData\\\\Roaming\\\\jupyter\\\\runtime\\\\kernel-v33af725407c44092efdc6f0ca824bf8a2428a1478.json']\n"
     ]
    }
   ],
   "source": [
    "import sys\n",
    "\n",
    "print(sys.version)\n",
    "print(sys.argv)"
   ]
  },
  {
   "cell_type": "markdown",
   "id": "305eb9fd",
   "metadata": {},
   "source": [
    "\n",
    "### Assignment 8: Working with the `math` Module\n",
    "\n",
    "Use the `math` module to calculate the greatest common divisor (GCD) of two numbers and the factorial of a number.\n"
   ]
  },
  {
   "cell_type": "code",
   "execution_count": 21,
   "id": "86da7b13",
   "metadata": {},
   "outputs": [
    {
     "name": "stdout",
     "output_type": "stream",
     "text": [
      "2 479001600\n"
     ]
    }
   ],
   "source": [
    "import math\n",
    "\n",
    "print(math.gcd(1066,1288),math.factorial(12),end='\\n')"
   ]
  },
  {
   "cell_type": "markdown",
   "id": "404fc6b5",
   "metadata": {},
   "source": [
    "\n",
    "### Assignment 9: Working with the `datetime` Module\n",
    "\n",
    "Use the `datetime` module to print the current date, calculate the date 100 days from today, and determine the day of the week for a given date.\n"
   ]
  },
  {
   "cell_type": "code",
   "execution_count": 38,
   "id": "01e8af4d",
   "metadata": {},
   "outputs": [
    {
     "name": "stdout",
     "output_type": "stream",
     "text": [
      "2025-02-15\n",
      "2025-05-26 15:11:19.892927\n",
      "Monday\n"
     ]
    }
   ],
   "source": [
    "import datetime as dt\n",
    "print(dt.date.today())\n",
    "fd=dt.datetime.today()+dt.timedelta(days=100)\n",
    "print(fd)\n",
    "print(fd.strftime(\"%A\"))"
   ]
  },
  {
   "cell_type": "markdown",
   "id": "6aa11758",
   "metadata": {},
   "source": [
    "\n",
    "### Assignment 10: Working with the `random` Module\n",
    "\n",
    "Use the `random` module to generate a list of 5 random numbers between 1 and 50 and shuffle the elements of a list.\n"
   ]
  },
  {
   "cell_type": "code",
   "execution_count": 40,
   "id": "86fd7bf0",
   "metadata": {},
   "outputs": [
    {
     "name": "stdout",
     "output_type": "stream",
     "text": [
      "[37, 18, 43, 50, 49]\n",
      "[50, 37, 49, 18, 43]\n"
     ]
    }
   ],
   "source": [
    "import random\n",
    "lst=[random.randint(1,50) for _ in range(5)]\n",
    "print(lst)\n",
    "random.shuffle(lst)\n",
    "print(lst)"
   ]
  },
  {
   "cell_type": "markdown",
   "id": "b90906d5",
   "metadata": {},
   "source": [
    "\n",
    "## Lesson 5.3: Creating and Using Packages\n",
    "### Assignment 11: Creating a Simple Package\n",
    "\n",
    "Create a package named `mypackage` with two modules: `module1` and `module2`. `module1` should contain a function that adds two numbers, and `module2` should contain a function that multiplies two numbers. Write code to use these functions.\n"
   ]
  },
  {
   "cell_type": "code",
   "execution_count": 42,
   "id": "337b8538",
   "metadata": {},
   "outputs": [
    {
     "name": "stdout",
     "output_type": "stream",
     "text": [
      "23 156\n"
     ]
    }
   ],
   "source": [
    "import packages.module1 as mp\n",
    "import packages.module2 as vp\n",
    "print(mp.add(11,12),vp.multiply(12,13))"
   ]
  },
  {
   "cell_type": "markdown",
   "id": "f0962558",
   "metadata": {},
   "source": [
    "\n",
    "### Assignment 12: Using `__init__.py`\n",
    "\n",
    "Modify the `mypackage` package to include an `__init__.py` file that imports the functions from `module1` and `module2`. Write code to use these functions.\n"
   ]
  },
  {
   "cell_type": "code",
   "execution_count": 1,
   "id": "b01a5f2e",
   "metadata": {},
   "outputs": [
    {
     "data": {
      "text/plain": [
       "5"
      ]
     },
     "execution_count": 1,
     "metadata": {},
     "output_type": "execute_result"
    }
   ],
   "source": [
    "from packages import add,multiply\n",
    "\n",
    "add(2,3)"
   ]
  },
  {
   "cell_type": "markdown",
   "id": "2db087de",
   "metadata": {},
   "source": [
    "\n",
    "### Assignment 13: Importing from a Package\n",
    "\n",
    "Write code to import and use the functions from `mypackage` without explicitly importing `module1` and `module2`.\n",
    "\n",
    "### Assignment 14: Relative Imports\n",
    "\n",
    "Create a subpackage named `subpackage` within `mypackage` and move `module2` into `subpackage`. Modify the import statements in `__init__.py` to use relative imports. Write code to use the functions from both modules.\n",
    "\n",
    "### Assignment 15: Handling Package Import Errors\n",
    "\n",
    "Write code that attempts to import a non-existent function from `mypackage` and gracefully handles the import error by printing an error message."
   ]
  },
  {
   "cell_type": "code",
   "execution_count": null,
   "metadata": {},
   "outputs": [],
   "source": []
  }
 ],
 "metadata": {
  "kernelspec": {
   "display_name": "base",
   "language": "python",
   "name": "python3"
  },
  "language_info": {
   "codemirror_mode": {
    "name": "ipython",
    "version": 3
   },
   "file_extension": ".py",
   "mimetype": "text/x-python",
   "name": "python",
   "nbconvert_exporter": "python",
   "pygments_lexer": "ipython3",
   "version": "3.12.7"
  }
 },
 "nbformat": 4,
 "nbformat_minor": 5
}
